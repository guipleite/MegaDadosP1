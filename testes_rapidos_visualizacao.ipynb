{
 "cells": [
  {
   "cell_type": "code",
   "execution_count": 1,
   "metadata": {},
   "outputs": [],
   "source": [
    "import pymysql\n",
    "from functools import partial\n",
    "\n",
    "def run_db_query(connection, query, args=None):\n",
    "    with connection.cursor() as cursor:\n",
    "        print('Executando query:')\n",
    "        cursor.execute(query, args)\n",
    "        for result in cursor:\n",
    "            print(result)\n",
    "\n",
    "connection = pymysql.connect(\n",
    "    host='localhost',\n",
    "    user='root',\n",
    "    password='hugo1hug',\n",
    "    database='mydb')\n",
    "\n",
    "db = partial(run_db_query, connection)"
   ]
  },
  {
   "cell_type": "code",
   "execution_count": 140,
   "metadata": {
    "scrolled": false
   },
   "outputs": [
    {
     "name": "stdout",
     "output_type": "stream",
     "text": [
      "Executando query:\n",
      "('joinha',)\n",
      "('mencionar',)\n",
      "('passaros',)\n",
      "('post',)\n",
      "('rankingpop',)\n",
      "('rankingpopu',)\n",
      "('tag',)\n",
      "('usuarios',)\n",
      "('usuarios_passaros',)\n",
      "('visualizado',)\n",
      "Executando query:\n",
      "('idUsuarios', 'int(11)', 'NO', 'PRI', None, 'auto_increment')\n",
      "('Nome', 'varchar(45)', 'NO', '', None, '')\n",
      "('Email', 'varchar(45)', 'NO', '', None, '')\n",
      "('Cidade', 'varchar(45)', 'NO', '', None, '')\n",
      "Executando query:\n",
      "('idPost', 'int(11)', 'NO', 'PRI', None, 'auto_increment')\n",
      "('Titulo', 'varchar(45)', 'NO', '', None, '')\n",
      "('Texto', 'varchar(300)', 'YES', '', None, '')\n",
      "('URL', 'varchar(45)', 'YES', '', None, '')\n",
      "('Atividade', 'tinyint(4)', 'YES', '', None, '')\n",
      "('Usuarios_idUsuarios', 'int(11)', 'NO', 'MUL', None, '')\n",
      "Executando query:\n",
      "('Usuarios_idUsuarios', 'int(11)', 'NO', 'PRI', None, '')\n",
      "('Post_idPost', 'int(11)', 'NO', 'PRI', None, '')\n",
      "('Ativar', 'tinyint(4)', 'YES', '', None, '')\n",
      "Executando query:\n",
      "('Post_idPost', 'int(11)', 'NO', 'PRI', None, '')\n",
      "('Usuarios_idUsuarios', 'int(11)', 'NO', 'PRI', None, '')\n",
      "('IP', 'varchar(45)', 'NO', '', None, '')\n",
      "('Browser', 'varchar(45)', 'NO', '', None, '')\n",
      "('Aparelho', 'varchar(45)', 'NO', '', None, '')\n",
      "('Data', 'datetime', 'NO', '', None, '')\n",
      "Executando query:\n",
      "(1, 'Joao', 'dasd@ads.com', 'Sorocaba')\n",
      "(2, 'Mario', 'dasd@ads.com', 'Sorocaba')\n",
      "(3, 'Felipe', 'dasd@ads.com', 'Barueri')\n",
      "(4, 'KKK', 'dasd@ads.com', 'Barueri')\n",
      "Executando query:\n",
      "Executando query:\n",
      "(2, '2', 'dasdassssss', 'www.Ahmedabad', 0, 1)\n",
      "(3, '2', 'sas', 'www.Ahmedabad', 0, 1)\n",
      "(4, '2', 'xasxaxaxa', 'www.Ahmedabad', 0, 1)\n",
      "(5, '1', 'xasxaxaxa', 'www.Ahmedabad', 0, 1)\n",
      "(6, '1', 'xasxaxaxa', 'www.Ahmedabad', 0, 2)\n",
      "Executando query:\n",
      "(1, 'Chico', 'lala')\n",
      "(2, 'Cho', 'lele')\n",
      "Executando query:\n",
      "(1, 2, 1)\n",
      "(1, 4, 1)\n",
      "(1, 5, 1)\n",
      "(2, 3, 1)\n",
      "(2, 6, 1)\n"
     ]
    }
   ],
   "source": [
    "db('show tables')\n",
    "db('describe usuarios')\n",
    "db('describe post')\n",
    "db('describe mencionar')\n",
    "db('describe visualizado')\n",
    "#db('INSERT INTO usuarios (Nome, Email, Cidade) VALUES (\"KKK\", \"dasd@ads.com\", \"Barueri\");')\n",
    "db('select * from usuarios')\n",
    "#db('INSERT INTO post (Titulo,Texto,URL,Atividade, Usuarios_idUsuarios) VALUES (1, \"xasxaxaxa\", \"www.Ahmedabad\", 0, 2);')\n",
    "#db('INSERT INTO visualizado (Post_idPost, Usuarios_idUsuarios, IP, Browser, Aparelho, Data) VALUES (5, 1, 198162, \"chrome2\", \"tpl1\", \"1999-01-01\");')\n",
    "#db('INSERT INTO mencionar (Usuarios_idUsuarios, Post_idPost, Ativar) VALUES (3, 6, 1);')\n",
    "#db('INSERT INTO passaros (Nome, Especie) VALUES (\"Cho\", \"lele\");')\n",
    "db('INSERT INTO Tag (Passaros_idPassaros,Post_idPost,Ativar) VALUES (2,6, 1);')\n",
    "#db('UPDATE Post SET Atividade = 1  WHERE Titulo = \"2\"')\n",
    "db('select * from post')\n",
    "#db('select * from mencionar')\n",
    "db('select * from passaros')\n",
    "db('select * from Tag')\n"
   ]
  },
  {
   "cell_type": "code",
   "execution_count": null,
   "metadata": {},
   "outputs": [],
   "source": []
  },
  {
   "cell_type": "code",
   "execution_count": 143,
   "metadata": {},
   "outputs": [
    {
     "name": "stdout",
     "output_type": "stream",
     "text": [
      "Executando query:\n",
      "('www.Ahmedabad', 1)\n",
      "('www.Ahmedabad', 2)\n"
     ]
    }
   ],
   "source": [
    "1#db('SELECT * FROM Post INNER JOIN Usuarios ON Post.Usuarios_idUsuarios = Usuarios.idUsuarios WHERE Nome = \"ENTRANOME\" ORDER BY idPost DESC;')\n",
    "\n",
    "2#db('''CREATE VIEW RankingPoPu AS SELECT Cidade, idUsuarios, Nome FROM Usuarios INNER JOIN Mencionar ON Usuarios.idUsuarios = Mencionar.Usuarios_idUsuarios \n",
    "#    GROUP BY Usuarios_idUsuarios ORDER BY COUNT(Post_idPost) DESC;''')\n",
    "#db('Select * from RankingPoPu Group by Cidade')\n",
    "\n",
    "3#db('''SELECT Nome FROM Usuarios WHERE idUsuarios in \n",
    "#(SELECT Post.Usuarios_idUsuarios FROM Mencionar INNER JOIN Usuarios ON Usuarios.idUsuarios = Mencionar.Usuarios_idUsuarios \n",
    "#INNER JOIN Post ON Mencionar.Post_idPost = Post.idPost WHERE Nome = \"Felipe\" GROUP BY Post.Usuarios_idUsuarios);''')\n",
    "\n",
    "4#db('''SELECT Browser, Aparelho, COUNT(IP) FROM Visualizado GROUP BY Browser, Aparelho;''')\n",
    "\n",
    "5#db('''SELECT URL, Passaros_idPassaros FROM Post INNER JOIN Tag ON Post.idPost = Tag.Post_idPost GROUP BY Passaros_idPassaros, URL;''')\n",
    "\n",
    "\n"
   ]
  },
  {
   "cell_type": "code",
   "execution_count": null,
   "metadata": {},
   "outputs": [],
   "source": []
  },
  {
   "cell_type": "code",
   "execution_count": 28,
   "metadata": {},
   "outputs": [],
   "source": [
    "#connection.rollback()\n",
    "connection.close()"
   ]
  },
  {
   "cell_type": "code",
   "execution_count": 112,
   "metadata": {},
   "outputs": [
    {
     "name": "stdout",
     "output_type": "stream",
     "text": [
      "Executando query:\n"
     ]
    },
    {
     "ename": "InterfaceError",
     "evalue": "(0, '')",
     "output_type": "error",
     "traceback": [
      "\u001b[1;31m---------------------------------------------------------------------------\u001b[0m",
      "\u001b[1;31mInterfaceError\u001b[0m                            Traceback (most recent call last)",
      "\u001b[1;32m<ipython-input-112-e01d5fbefe80>\u001b[0m in \u001b[0;36m<module>\u001b[1;34m()\u001b[0m\n\u001b[1;32m----> 1\u001b[1;33m \u001b[0mdb\u001b[0m\u001b[1;33m(\u001b[0m\u001b[1;34m'select * from mencionar'\u001b[0m\u001b[1;33m)\u001b[0m\u001b[1;33m\u001b[0m\u001b[0m\n\u001b[0m",
      "\u001b[1;32m<ipython-input-63-2161c50689cb>\u001b[0m in \u001b[0;36mrun_db_query\u001b[1;34m(connection, query, args)\u001b[0m\n\u001b[0;32m      5\u001b[0m     \u001b[1;32mwith\u001b[0m \u001b[0mconnection\u001b[0m\u001b[1;33m.\u001b[0m\u001b[0mcursor\u001b[0m\u001b[1;33m(\u001b[0m\u001b[1;33m)\u001b[0m \u001b[1;32mas\u001b[0m \u001b[0mcursor\u001b[0m\u001b[1;33m:\u001b[0m\u001b[1;33m\u001b[0m\u001b[0m\n\u001b[0;32m      6\u001b[0m         \u001b[0mprint\u001b[0m\u001b[1;33m(\u001b[0m\u001b[1;34m'Executando query:'\u001b[0m\u001b[1;33m)\u001b[0m\u001b[1;33m\u001b[0m\u001b[0m\n\u001b[1;32m----> 7\u001b[1;33m         \u001b[0mcursor\u001b[0m\u001b[1;33m.\u001b[0m\u001b[0mexecute\u001b[0m\u001b[1;33m(\u001b[0m\u001b[0mquery\u001b[0m\u001b[1;33m,\u001b[0m \u001b[0margs\u001b[0m\u001b[1;33m)\u001b[0m\u001b[1;33m\u001b[0m\u001b[0m\n\u001b[0m\u001b[0;32m      8\u001b[0m         \u001b[1;32mfor\u001b[0m \u001b[0mresult\u001b[0m \u001b[1;32min\u001b[0m \u001b[0mcursor\u001b[0m\u001b[1;33m:\u001b[0m\u001b[1;33m\u001b[0m\u001b[0m\n\u001b[0;32m      9\u001b[0m             \u001b[0mprint\u001b[0m\u001b[1;33m(\u001b[0m\u001b[0mresult\u001b[0m\u001b[1;33m)\u001b[0m\u001b[1;33m\u001b[0m\u001b[0m\n",
      "\u001b[1;32m~\\Anaconda3\\lib\\site-packages\\pymysql\\cursors.py\u001b[0m in \u001b[0;36mexecute\u001b[1;34m(self, query, args)\u001b[0m\n\u001b[0;32m    168\u001b[0m         \u001b[0mquery\u001b[0m \u001b[1;33m=\u001b[0m \u001b[0mself\u001b[0m\u001b[1;33m.\u001b[0m\u001b[0mmogrify\u001b[0m\u001b[1;33m(\u001b[0m\u001b[0mquery\u001b[0m\u001b[1;33m,\u001b[0m \u001b[0margs\u001b[0m\u001b[1;33m)\u001b[0m\u001b[1;33m\u001b[0m\u001b[0m\n\u001b[0;32m    169\u001b[0m \u001b[1;33m\u001b[0m\u001b[0m\n\u001b[1;32m--> 170\u001b[1;33m         \u001b[0mresult\u001b[0m \u001b[1;33m=\u001b[0m \u001b[0mself\u001b[0m\u001b[1;33m.\u001b[0m\u001b[0m_query\u001b[0m\u001b[1;33m(\u001b[0m\u001b[0mquery\u001b[0m\u001b[1;33m)\u001b[0m\u001b[1;33m\u001b[0m\u001b[0m\n\u001b[0m\u001b[0;32m    171\u001b[0m         \u001b[0mself\u001b[0m\u001b[1;33m.\u001b[0m\u001b[0m_executed\u001b[0m \u001b[1;33m=\u001b[0m \u001b[0mquery\u001b[0m\u001b[1;33m\u001b[0m\u001b[0m\n\u001b[0;32m    172\u001b[0m         \u001b[1;32mreturn\u001b[0m \u001b[0mresult\u001b[0m\u001b[1;33m\u001b[0m\u001b[0m\n",
      "\u001b[1;32m~\\Anaconda3\\lib\\site-packages\\pymysql\\cursors.py\u001b[0m in \u001b[0;36m_query\u001b[1;34m(self, q)\u001b[0m\n\u001b[0;32m    326\u001b[0m         \u001b[0mself\u001b[0m\u001b[1;33m.\u001b[0m\u001b[0m_last_executed\u001b[0m \u001b[1;33m=\u001b[0m \u001b[0mq\u001b[0m\u001b[1;33m\u001b[0m\u001b[0m\n\u001b[0;32m    327\u001b[0m         \u001b[0mself\u001b[0m\u001b[1;33m.\u001b[0m\u001b[0m_clear_result\u001b[0m\u001b[1;33m(\u001b[0m\u001b[1;33m)\u001b[0m\u001b[1;33m\u001b[0m\u001b[0m\n\u001b[1;32m--> 328\u001b[1;33m         \u001b[0mconn\u001b[0m\u001b[1;33m.\u001b[0m\u001b[0mquery\u001b[0m\u001b[1;33m(\u001b[0m\u001b[0mq\u001b[0m\u001b[1;33m)\u001b[0m\u001b[1;33m\u001b[0m\u001b[0m\n\u001b[0m\u001b[0;32m    329\u001b[0m         \u001b[0mself\u001b[0m\u001b[1;33m.\u001b[0m\u001b[0m_do_get_result\u001b[0m\u001b[1;33m(\u001b[0m\u001b[1;33m)\u001b[0m\u001b[1;33m\u001b[0m\u001b[0m\n\u001b[0;32m    330\u001b[0m         \u001b[1;32mreturn\u001b[0m \u001b[0mself\u001b[0m\u001b[1;33m.\u001b[0m\u001b[0mrowcount\u001b[0m\u001b[1;33m\u001b[0m\u001b[0m\n",
      "\u001b[1;32m~\\Anaconda3\\lib\\site-packages\\pymysql\\connections.py\u001b[0m in \u001b[0;36mquery\u001b[1;34m(self, sql, unbuffered)\u001b[0m\n\u001b[0;32m    514\u001b[0m             \u001b[1;32melse\u001b[0m\u001b[1;33m:\u001b[0m\u001b[1;33m\u001b[0m\u001b[0m\n\u001b[0;32m    515\u001b[0m                 \u001b[0msql\u001b[0m \u001b[1;33m=\u001b[0m \u001b[0msql\u001b[0m\u001b[1;33m.\u001b[0m\u001b[0mencode\u001b[0m\u001b[1;33m(\u001b[0m\u001b[0mself\u001b[0m\u001b[1;33m.\u001b[0m\u001b[0mencoding\u001b[0m\u001b[1;33m,\u001b[0m \u001b[1;34m'surrogateescape'\u001b[0m\u001b[1;33m)\u001b[0m\u001b[1;33m\u001b[0m\u001b[0m\n\u001b[1;32m--> 516\u001b[1;33m         \u001b[0mself\u001b[0m\u001b[1;33m.\u001b[0m\u001b[0m_execute_command\u001b[0m\u001b[1;33m(\u001b[0m\u001b[0mCOMMAND\u001b[0m\u001b[1;33m.\u001b[0m\u001b[0mCOM_QUERY\u001b[0m\u001b[1;33m,\u001b[0m \u001b[0msql\u001b[0m\u001b[1;33m)\u001b[0m\u001b[1;33m\u001b[0m\u001b[0m\n\u001b[0m\u001b[0;32m    517\u001b[0m         \u001b[0mself\u001b[0m\u001b[1;33m.\u001b[0m\u001b[0m_affected_rows\u001b[0m \u001b[1;33m=\u001b[0m \u001b[0mself\u001b[0m\u001b[1;33m.\u001b[0m\u001b[0m_read_query_result\u001b[0m\u001b[1;33m(\u001b[0m\u001b[0munbuffered\u001b[0m\u001b[1;33m=\u001b[0m\u001b[0munbuffered\u001b[0m\u001b[1;33m)\u001b[0m\u001b[1;33m\u001b[0m\u001b[0m\n\u001b[0;32m    518\u001b[0m         \u001b[1;32mreturn\u001b[0m \u001b[0mself\u001b[0m\u001b[1;33m.\u001b[0m\u001b[0m_affected_rows\u001b[0m\u001b[1;33m\u001b[0m\u001b[0m\n",
      "\u001b[1;32m~\\Anaconda3\\lib\\site-packages\\pymysql\\connections.py\u001b[0m in \u001b[0;36m_execute_command\u001b[1;34m(self, command, sql)\u001b[0m\n\u001b[0;32m    748\u001b[0m         \"\"\"\n\u001b[0;32m    749\u001b[0m         \u001b[1;32mif\u001b[0m \u001b[1;32mnot\u001b[0m \u001b[0mself\u001b[0m\u001b[1;33m.\u001b[0m\u001b[0m_sock\u001b[0m\u001b[1;33m:\u001b[0m\u001b[1;33m\u001b[0m\u001b[0m\n\u001b[1;32m--> 750\u001b[1;33m             \u001b[1;32mraise\u001b[0m \u001b[0merr\u001b[0m\u001b[1;33m.\u001b[0m\u001b[0mInterfaceError\u001b[0m\u001b[1;33m(\u001b[0m\u001b[1;34m\"(0, '')\"\u001b[0m\u001b[1;33m)\u001b[0m\u001b[1;33m\u001b[0m\u001b[0m\n\u001b[0m\u001b[0;32m    751\u001b[0m \u001b[1;33m\u001b[0m\u001b[0m\n\u001b[0;32m    752\u001b[0m         \u001b[1;31m# If the last query was unbuffered, make sure it finishes before\u001b[0m\u001b[1;33m\u001b[0m\u001b[1;33m\u001b[0m\u001b[0m\n",
      "\u001b[1;31mInterfaceError\u001b[0m: (0, '')"
     ]
    }
   ],
   "source": [
    "db('select * from mencionar')"
   ]
  },
  {
   "cell_type": "code",
   "execution_count": 106,
   "metadata": {},
   "outputs": [
    {
     "name": "stdout",
     "output_type": "stream",
     "text": [
      "Executando query:\n",
      "(21, '2', 'dasd,Ramesh', 'www.Ahmedabad', 7, 19)\n"
     ]
    }
   ],
   "source": [
    "db('select * from post')\n"
   ]
  },
  {
   "cell_type": "code",
   "execution_count": null,
   "metadata": {},
   "outputs": [],
   "source": []
  }
 ],
 "metadata": {
  "kernelspec": {
   "display_name": "Python 3",
   "language": "python",
   "name": "python3"
  },
  "language_info": {
   "codemirror_mode": {
    "name": "ipython",
    "version": 3
   },
   "file_extension": ".py",
   "mimetype": "text/x-python",
   "name": "python",
   "nbconvert_exporter": "python",
   "pygments_lexer": "ipython3",
   "version": "3.6.4"
  }
 },
 "nbformat": 4,
 "nbformat_minor": 2
}
